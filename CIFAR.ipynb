{
  "cells": [
    {
      "cell_type": "markdown",
      "metadata": {
        "id": "view-in-github",
        "colab_type": "text"
      },
      "source": [
        "<a href=\"https://colab.research.google.com/github/shivangipokhriyal/MNIST-data-classification/blob/main/CIFAR.ipynb\" target=\"_parent\"><img src=\"https://colab.research.google.com/assets/colab-badge.svg\" alt=\"Open In Colab\"/></a>"
      ]
    },
    {
      "cell_type": "code",
      "execution_count": 1,
      "metadata": {
        "id": "pq_GiBqlg27J"
      },
      "outputs": [],
      "source": [
        "import tensorflow\n",
        "import pandas as pd\n",
        "import numpy as np\n",
        "import matplotlib.pyplot as plt\n",
        "\n",
        "from tensorflow.keras.layers import Conv2D, MaxPool2D, Flatten, Dense, Dropout\n",
        "from tensorflow.keras.models import Sequential\n",
        "from tensorflow.keras.datasets import cifar10"
      ]
    },
    {
      "cell_type": "code",
      "execution_count": 2,
      "metadata": {
        "colab": {
          "base_uri": "https://localhost:8080/"
        },
        "id": "In3o6QxEin0y",
        "outputId": "92d7c56e-6b6e-44d4-a34c-cb94fd535a7f"
      },
      "outputs": [
        {
          "output_type": "stream",
          "name": "stdout",
          "text": [
            "Downloading data from https://www.cs.toronto.edu/~kriz/cifar-10-python.tar.gz\n",
            "170498071/170498071 [==============================] - 2s 0us/step\n"
          ]
        }
      ],
      "source": [
        "# loading the dataset\n",
        "(x_train, y_train), (x_test, y_test) = cifar10.load_data()"
      ]
    },
    {
      "cell_type": "code",
      "execution_count": 3,
      "metadata": {
        "colab": {
          "base_uri": "https://localhost:8080/"
        },
        "id": "riEN-2lZiq8b",
        "outputId": "38ccdd25-4f4b-40b8-f82e-2c2e803cdf4b"
      },
      "outputs": [
        {
          "output_type": "execute_result",
          "data": {
            "text/plain": [
              "(50000, 32, 32, 3)"
            ]
          },
          "metadata": {},
          "execution_count": 3
        }
      ],
      "source": [
        "x_train.shape"
      ]
    },
    {
      "cell_type": "code",
      "execution_count": 4,
      "metadata": {
        "colab": {
          "base_uri": "https://localhost:8080/"
        },
        "id": "tzt2pMQ_ixSs",
        "outputId": "565e6561-2557-4c25-c5c6-76c7c78eeef4"
      },
      "outputs": [
        {
          "output_type": "execute_result",
          "data": {
            "text/plain": [
              "(50000, 1)"
            ]
          },
          "metadata": {},
          "execution_count": 4
        }
      ],
      "source": [
        "y_train.shape"
      ]
    },
    {
      "cell_type": "code",
      "execution_count": 5,
      "metadata": {
        "id": "4JihK0boi0aL"
      },
      "outputs": [],
      "source": [
        "# name all the class\n",
        "classes = ['airplane','automobile','bird','cat','deer','dog','frog','horse','ship','truck']"
      ]
    },
    {
      "cell_type": "code",
      "execution_count": 6,
      "metadata": {
        "colab": {
          "base_uri": "https://localhost:8080/",
          "height": 285
        },
        "id": "bmWk53ePi1PC",
        "outputId": "281992b4-8a44-42f7-909e-5e80c4b72835"
      },
      "outputs": [
        {
          "output_type": "execute_result",
          "data": {
            "text/plain": [
              "'truck'"
            ],
            "application/vnd.google.colaboratory.intrinsic+json": {
              "type": "string"
            }
          },
          "metadata": {},
          "execution_count": 6
        },
        {
          "output_type": "display_data",
          "data": {
            "text/plain": [
              "<Figure size 432x288 with 1 Axes>"
            ],
            "image/png": "[encoded data removed]"
          },
          "metadata": {
            "needs_background": "light"
          }
        }
      ],
      "source": [
        "# visualize the data\n",
        "class_number = 2\n",
        "plt.imshow(x_train[class_number])\n",
        "classes[y_train[class_number][0]]"
      ]
    },
    {
      "cell_type": "code",
      "execution_count": 7,
      "metadata": {
        "colab": {
          "base_uri": "https://localhost:8080/"
        },
        "id": "y5EMmW4_i9EG",
        "outputId": "e7f2081f-e998-4a57-f517-4ce6ea48212f"
      },
      "outputs": [
        {
          "output_type": "execute_result",
          "data": {
            "text/plain": [
              "9"
            ]
          },
          "metadata": {},
          "execution_count": 7
        }
      ],
      "source": [
        "y_train[class_number][0]"
      ]
    },
    {
      "cell_type": "code",
      "execution_count": 8,
      "metadata": {
        "colab": {
          "base_uri": "https://localhost:8080/"
        },
        "id": "1KwCOwSii99d",
        "outputId": "29d19dc9-551f-44d5-f6d6-340fa231561b"
      },
      "outputs": [
        {
          "output_type": "execute_result",
          "data": {
            "text/plain": [
              "array([[6],\n",
              "       [9],\n",
              "       [9],\n",
              "       ...,\n",
              "       [9],\n",
              "       [1],\n",
              "       [1]], dtype=uint8)"
            ]
          },
          "metadata": {},
          "execution_count": 8
        }
      ],
      "source": [
        "y_train"
      ]
    },
    {
      "cell_type": "code",
      "execution_count": 9,
      "metadata": {
        "id": "IzK5l914jB19"
      },
      "outputs": [],
      "source": [
        "# Normalise the data\n",
        "x_train, x_test = x_train/255.0, x_test/255.0"
      ]
    },
    {
      "cell_type": "code",
      "execution_count": 10,
      "metadata": {
        "id": "Ip-1LrtpjHnM"
      },
      "outputs": [],
      "source": [
        "# 1. construct\n",
        "# 2. compile\n",
        "# 3. fit"
      ]
    },
    {
      "cell_type": "code",
      "execution_count": 11,
      "metadata": {
        "id": "gBMNRPDijIdm"
      },
      "outputs": [],
      "source": [
        "# Constructing the network\n",
        "\n",
        "model = Sequential()\n",
        "\n",
        "# conv layer 1\n",
        "model.add(Conv2D(36, (3,3), activation='relu'))\n",
        "model.add(MaxPool2D())\n",
        "\n",
        "# conv layer 2\n",
        "model.add(Conv2D(64, (3,3), activation='relu'))\n",
        "model.add(MaxPool2D())\n",
        "\n",
        "# conv layer 3\n",
        "model.add(Conv2D(128, (3,3), activation='relu'))\n",
        "model.add(MaxPool2D())\n",
        "\n",
        "model.add(Flatten())\n",
        "\n",
        "model.add(Dense(128, activation='relu'))\n",
        "\n",
        "model.add(Dense(64, activation='sigmoid'))\n",
        "\n",
        "model.add(Dense(32, activation='relu'))\n",
        "\n",
        "model.add(Dense(10, activation='softmax'))"
      ]
    },
    {
      "cell_type": "code",
      "execution_count": 12,
      "metadata": {
        "id": "ZlAt-F2NjIpW"
      },
      "outputs": [],
      "source": [
        "# compile\n",
        "model.compile(optimizer='adam', loss='sparse_categorical_crossentropy', metrics=['accuracy'])"
      ]
    },
    {
      "cell_type": "code",
      "execution_count": 13,
      "metadata": {
        "colab": {
          "base_uri": "https://localhost:8080/"
        },
        "id": "M19YhKuVjVb3",
        "outputId": "a258dd5a-3701-42e5-cb9d-320cc5dce0c6"
      },
      "outputs": [
        {
          "output_type": "stream",
          "name": "stdout",
          "text": [
            "Epoch 1/50\n",
            "1250/1250 [==============================] - 89s 70ms/step - loss: 2.3039 - accuracy: 0.1016 - val_loss: 2.3027 - val_accuracy: 0.0952\n",
            "Epoch 2/50\n",
            "1250/1250 [==============================] - 73s 58ms/step - loss: 2.3028 - accuracy: 0.0970 - val_loss: 2.3028 - val_accuracy: 0.0980\n",
            "Epoch 3/50\n",
            "1250/1250 [==============================] - 70s 56ms/step - loss: 2.3028 - accuracy: 0.1002 - val_loss: 2.3026 - val_accuracy: 0.1014\n",
            "Epoch 4/50\n",
            "1250/1250 [==============================] - 70s 56ms/step - loss: 2.3028 - accuracy: 0.0973 - val_loss: 2.3028 - val_accuracy: 0.0997\n",
            "Epoch 5/50\n",
            "1250/1250 [==============================] - 70s 56ms/step - loss: 2.3028 - accuracy: 0.0983 - val_loss: 2.3027 - val_accuracy: 0.1003\n",
            "Epoch 6/50\n",
            "1250/1250 [==============================] - 70s 56ms/step - loss: 2.3028 - accuracy: 0.0977 - val_loss: 2.3028 - val_accuracy: 0.0952\n",
            "Epoch 7/50\n",
            "1250/1250 [==============================] - 70s 56ms/step - loss: 2.3028 - accuracy: 0.0975 - val_loss: 2.3029 - val_accuracy: 0.0952\n",
            "Epoch 8/50\n",
            "1250/1250 [==============================] - 70s 56ms/step - loss: 2.3028 - accuracy: 0.0976 - val_loss: 2.3029 - val_accuracy: 0.0952\n",
            "Epoch 9/50\n",
            "1250/1250 [==============================] - 70s 56ms/step - loss: 2.3028 - accuracy: 0.0989 - val_loss: 2.3027 - val_accuracy: 0.0952\n",
            "Epoch 10/50\n",
            "1250/1250 [==============================] - 71s 56ms/step - loss: 2.3027 - accuracy: 0.1002 - val_loss: 2.3029 - val_accuracy: 0.0977\n",
            "Epoch 11/50\n",
            "1250/1250 [==============================] - 70s 56ms/step - loss: 2.3028 - accuracy: 0.0989 - val_loss: 2.3030 - val_accuracy: 0.0952\n",
            "Epoch 12/50\n",
            "1250/1250 [==============================] - 70s 56ms/step - loss: 2.3028 - accuracy: 0.0971 - val_loss: 2.3028 - val_accuracy: 0.0952\n",
            "Epoch 13/50\n",
            "1250/1250 [==============================] - 70s 56ms/step - loss: 2.3028 - accuracy: 0.0983 - val_loss: 2.3028 - val_accuracy: 0.0952\n",
            "Epoch 14/50\n",
            "1250/1250 [==============================] - 70s 56ms/step - loss: 2.3027 - accuracy: 0.1004 - val_loss: 2.3027 - val_accuracy: 0.1003\n",
            "Epoch 15/50\n",
            "1250/1250 [==============================] - 70s 56ms/step - loss: 2.3028 - accuracy: 0.0993 - val_loss: 2.3026 - val_accuracy: 0.1025\n",
            "Epoch 16/50\n",
            "1250/1250 [==============================] - 69s 55ms/step - loss: 2.3028 - accuracy: 0.0979 - val_loss: 2.3027 - val_accuracy: 0.0997\n",
            "Epoch 17/50\n",
            "1250/1250 [==============================] - 70s 56ms/step - loss: 2.3028 - accuracy: 0.0983 - val_loss: 2.3027 - val_accuracy: 0.0952\n",
            "Epoch 18/50\n",
            "1250/1250 [==============================] - 68s 55ms/step - loss: 2.3028 - accuracy: 0.0988 - val_loss: 2.3029 - val_accuracy: 0.0952\n",
            "Epoch 19/50\n",
            "1250/1250 [==============================] - 68s 55ms/step - loss: 2.3028 - accuracy: 0.0978 - val_loss: 2.3027 - val_accuracy: 0.0952\n",
            "Epoch 20/50\n",
            "1250/1250 [==============================] - 68s 55ms/step - loss: 2.3028 - accuracy: 0.0985 - val_loss: 2.3028 - val_accuracy: 0.1003\n",
            "Epoch 21/50\n",
            "1250/1250 [==============================] - 69s 55ms/step - loss: 2.3028 - accuracy: 0.0977 - val_loss: 2.3028 - val_accuracy: 0.0952\n",
            "Epoch 22/50\n",
            "1250/1250 [==============================] - 69s 55ms/step - loss: 2.3027 - accuracy: 0.0997 - val_loss: 2.3028 - val_accuracy: 0.0977\n",
            "Epoch 23/50\n",
            "1250/1250 [==============================] - 68s 55ms/step - loss: 2.3028 - accuracy: 0.1005 - val_loss: 2.3027 - val_accuracy: 0.0980\n",
            "Epoch 24/50\n",
            "1250/1250 [==============================] - 68s 54ms/step - loss: 2.3028 - accuracy: 0.0968 - val_loss: 2.3027 - val_accuracy: 0.0997\n",
            "Epoch 25/50\n",
            "1250/1250 [==============================] - 68s 55ms/step - loss: 2.3028 - accuracy: 0.0994 - val_loss: 2.3026 - val_accuracy: 0.1014\n",
            "Epoch 26/50\n",
            "1250/1250 [==============================] - 68s 55ms/step - loss: 2.3027 - accuracy: 0.0989 - val_loss: 2.3028 - val_accuracy: 0.0977\n",
            "Epoch 27/50\n",
            "1250/1250 [==============================] - 68s 55ms/step - loss: 2.3028 - accuracy: 0.0980 - val_loss: 2.3028 - val_accuracy: 0.0977\n",
            "Epoch 28/50\n",
            "1250/1250 [==============================] - 68s 55ms/step - loss: 2.3028 - accuracy: 0.0999 - val_loss: 2.3027 - val_accuracy: 0.1014\n",
            "Epoch 29/50\n",
            "1250/1250 [==============================] - 69s 55ms/step - loss: 2.3028 - accuracy: 0.0990 - val_loss: 2.3027 - val_accuracy: 0.0952\n",
            "Epoch 30/50\n",
            "1250/1250 [==============================] - 68s 55ms/step - loss: 2.3028 - accuracy: 0.0968 - val_loss: 2.3028 - val_accuracy: 0.0997\n",
            "Epoch 31/50\n",
            "1250/1250 [==============================] - 68s 55ms/step - loss: 2.3028 - accuracy: 0.0978 - val_loss: 2.3028 - val_accuracy: 0.0952\n",
            "Epoch 32/50\n",
            "1250/1250 [==============================] - 69s 55ms/step - loss: 2.3028 - accuracy: 0.0994 - val_loss: 2.3028 - val_accuracy: 0.0952\n",
            "Epoch 33/50\n",
            "1250/1250 [==============================] - 69s 55ms/step - loss: 2.3028 - accuracy: 0.0992 - val_loss: 2.3029 - val_accuracy: 0.0952\n",
            "Epoch 34/50\n",
            "1250/1250 [==============================] - 70s 56ms/step - loss: 2.3028 - accuracy: 0.1001 - val_loss: 2.3027 - val_accuracy: 0.0952\n",
            "Epoch 35/50\n",
            "1250/1250 [==============================] - 72s 58ms/step - loss: 2.3028 - accuracy: 0.0974 - val_loss: 2.3027 - val_accuracy: 0.0952\n",
            "Epoch 36/50\n",
            "1250/1250 [==============================] - 72s 58ms/step - loss: 2.3028 - accuracy: 0.0976 - val_loss: 2.3028 - val_accuracy: 0.1003\n",
            "Epoch 37/50\n",
            "1250/1250 [==============================] - 72s 58ms/step - loss: 2.3027 - accuracy: 0.0974 - val_loss: 2.3028 - val_accuracy: 0.1014\n",
            "Epoch 38/50\n",
            "1250/1250 [==============================] - 72s 58ms/step - loss: 2.3028 - accuracy: 0.0979 - val_loss: 2.3027 - val_accuracy: 0.0952\n",
            "Epoch 39/50\n",
            "1250/1250 [==============================] - 72s 58ms/step - loss: 2.3028 - accuracy: 0.0984 - val_loss: 2.3026 - val_accuracy: 0.0952\n",
            "Epoch 40/50\n",
            "1250/1250 [==============================] - 73s 58ms/step - loss: 2.3028 - accuracy: 0.0995 - val_loss: 2.3027 - val_accuracy: 0.0977\n",
            "Epoch 41/50\n",
            "1250/1250 [==============================] - 73s 58ms/step - loss: 2.3028 - accuracy: 0.0987 - val_loss: 2.3027 - val_accuracy: 0.1003\n",
            "Epoch 42/50\n",
            "1250/1250 [==============================] - 73s 58ms/step - loss: 2.3027 - accuracy: 0.1001 - val_loss: 2.3028 - val_accuracy: 0.1014\n",
            "Epoch 43/50\n",
            "1250/1250 [==============================] - 73s 58ms/step - loss: 2.3028 - accuracy: 0.0980 - val_loss: 2.3027 - val_accuracy: 0.0952\n",
            "Epoch 44/50\n",
            "1250/1250 [==============================] - 73s 58ms/step - loss: 2.3028 - accuracy: 0.0986 - val_loss: 2.3029 - val_accuracy: 0.0952\n",
            "Epoch 45/50\n",
            "1250/1250 [==============================] - 73s 58ms/step - loss: 2.3028 - accuracy: 0.1003 - val_loss: 2.3027 - val_accuracy: 0.0952\n",
            "Epoch 46/50\n",
            "1250/1250 [==============================] - 73s 58ms/step - loss: 2.3028 - accuracy: 0.0995 - val_loss: 2.3026 - val_accuracy: 0.1014\n",
            "Epoch 47/50\n",
            "1250/1250 [==============================] - 73s 58ms/step - loss: 2.3028 - accuracy: 0.0962 - val_loss: 2.3027 - val_accuracy: 0.0977\n",
            "Epoch 48/50\n",
            "1250/1250 [==============================] - 73s 58ms/step - loss: 2.3027 - accuracy: 0.0992 - val_loss: 2.3030 - val_accuracy: 0.0952\n",
            "Epoch 49/50\n",
            "1250/1250 [==============================] - 73s 58ms/step - loss: 2.3028 - accuracy: 0.0968 - val_loss: 2.3028 - val_accuracy: 0.0952\n",
            "Epoch 50/50\n",
            "1250/1250 [==============================] - 73s 59ms/step - loss: 2.3028 - accuracy: 0.0966 - val_loss: 2.3028 - val_accuracy: 0.0952\n"
          ]
        },
        {
          "output_type": "execute_result",
          "data": {
            "text/plain": [
              "<keras.callbacks.History at 0x7fd624b8ce80>"
            ]
          },
          "metadata": {},
          "execution_count": 13
        }
      ],
      "source": [
        "# fit\n",
        "model.fit(x_train, y_train, epochs=50, batch_size=32, validation_split=0.2)"
      ]
    },
    {
      "cell_type": "code",
      "execution_count": 14,
      "metadata": {
        "id": "msvSIc8Ba82J"
      },
      "outputs": [],
      "source": [
        "# Constructing the network\n",
        "\n",
        "model1 = Sequential()\n",
        "\n",
        "# conv layer 1\n",
        "model1.add(Conv2D(32, (3,3), activation='relu'))\n",
        "model1.add(MaxPool2D())\n",
        "model1.add(Dropout(0.4))\n",
        "\n",
        "# conv layer 2\n",
        "model1.add(Conv2D(64, (3,3), activation='relu'))\n",
        "model1.add(MaxPool2D())\n",
        "model1.add(Dropout(0.4))\n",
        "\n",
        "# conv layer 3\n",
        "model1.add(Conv2D(128, (3,3), activation='relu'))\n",
        "model1.add(MaxPool2D())\n",
        "model1.add(Dropout(0.2))\n",
        "\n",
        "model1.add(Flatten())\n",
        "\n",
        "model1.add(Dense(128, activation='relu'))\n",
        "model1.add(Dropout(0.4))\n",
        "\n",
        "model1.add(Dense(64, activation='sigmoid'))\n",
        "model1.add(Dropout(0.5))\n",
        "\n",
        "model1.add(Dense(32, activation='relu'))\n",
        "model1.add(Dropout(0.2))\n",
        "\n",
        "model1.add(Dense(10, activation='softmax'))"
      ]
    },
    {
      "cell_type": "code",
      "source": [
        "# compile\n",
        "model.compile(optimizer='adam', loss='sparse_categorical_crossentropy', metrics=['accuracy'])"
      ],
      "metadata": {
        "id": "BAfoOCJ2IGqd"
      },
      "execution_count": 15,
      "outputs": []
    },
    {
      "cell_type": "code",
      "source": [
        "# fit\n",
        "model.fit(x_train, y_train, epochs=20,  validation_split=0.2)"
      ],
      "metadata": {
        "colab": {
          "base_uri": "https://localhost:8080/"
        },
        "id": "5JiE52obxz2c",
        "outputId": "b8ce5785-a165-45a9-e79e-c40d8ad74d29"
      },
      "execution_count": 16,
      "outputs": [
        {
          "output_type": "stream",
          "name": "stdout",
          "text": [
            "Epoch 1/20\n",
            "1250/1250 [==============================] - 75s 59ms/step - loss: 2.3028 - accuracy: 0.0981 - val_loss: 2.3027 - val_accuracy: 0.0997\n",
            "Epoch 2/20\n",
            "1250/1250 [==============================] - 75s 60ms/step - loss: 2.3028 - accuracy: 0.0980 - val_loss: 2.3029 - val_accuracy: 0.0952\n",
            "Epoch 3/20\n",
            "1250/1250 [==============================] - 71s 57ms/step - loss: 2.3028 - accuracy: 0.0986 - val_loss: 2.3027 - val_accuracy: 0.0952\n",
            "Epoch 4/20\n",
            "1250/1250 [==============================] - 71s 57ms/step - loss: 2.3028 - accuracy: 0.0991 - val_loss: 2.3027 - val_accuracy: 0.0997\n",
            "Epoch 5/20\n",
            "1250/1250 [==============================] - 71s 57ms/step - loss: 2.3028 - accuracy: 0.1006 - val_loss: 2.3027 - val_accuracy: 0.0980\n",
            "Epoch 6/20\n",
            "1250/1250 [==============================] - 71s 57ms/step - loss: 2.3028 - accuracy: 0.0985 - val_loss: 2.3027 - val_accuracy: 0.0977\n",
            "Epoch 7/20\n",
            "1250/1250 [==============================] - 71s 57ms/step - loss: 2.3028 - accuracy: 0.0970 - val_loss: 2.3027 - val_accuracy: 0.0952\n",
            "Epoch 8/20\n",
            "1250/1250 [==============================] - 71s 57ms/step - loss: 2.3027 - accuracy: 0.0985 - val_loss: 2.3026 - val_accuracy: 0.0977\n",
            "Epoch 9/20\n",
            "1250/1250 [==============================] - 71s 57ms/step - loss: 2.3028 - accuracy: 0.0964 - val_loss: 2.3028 - val_accuracy: 0.0952\n",
            "Epoch 10/20\n",
            "1250/1250 [==============================] - 72s 57ms/step - loss: 2.3028 - accuracy: 0.1002 - val_loss: 2.3028 - val_accuracy: 0.0977\n",
            "Epoch 11/20\n",
            "1250/1250 [==============================] - 71s 57ms/step - loss: 2.3028 - accuracy: 0.0971 - val_loss: 2.3028 - val_accuracy: 0.0952\n",
            "Epoch 12/20\n",
            "1250/1250 [==============================] - 71s 57ms/step - loss: 2.3028 - accuracy: 0.0981 - val_loss: 2.3028 - val_accuracy: 0.0952\n",
            "Epoch 13/20\n",
            "1250/1250 [==============================] - 71s 57ms/step - loss: 2.3028 - accuracy: 0.0979 - val_loss: 2.3027 - val_accuracy: 0.0952\n",
            "Epoch 14/20\n",
            "1250/1250 [==============================] - 71s 57ms/step - loss: 2.3028 - accuracy: 0.0996 - val_loss: 2.3029 - val_accuracy: 0.0977\n",
            "Epoch 15/20\n",
            "1250/1250 [==============================] - 71s 57ms/step - loss: 2.3028 - accuracy: 0.0985 - val_loss: 2.3028 - val_accuracy: 0.0977\n",
            "Epoch 16/20\n",
            "1250/1250 [==============================] - 71s 57ms/step - loss: 2.3027 - accuracy: 0.1005 - val_loss: 2.3028 - val_accuracy: 0.0977\n",
            "Epoch 17/20\n",
            "1250/1250 [==============================] - 71s 57ms/step - loss: 2.3028 - accuracy: 0.0971 - val_loss: 2.3028 - val_accuracy: 0.0952\n",
            "Epoch 18/20\n",
            "1250/1250 [==============================] - 72s 57ms/step - loss: 2.3028 - accuracy: 0.0984 - val_loss: 2.3027 - val_accuracy: 0.1003\n",
            "Epoch 19/20\n",
            "1250/1250 [==============================] - 72s 58ms/step - loss: 2.3028 - accuracy: 0.0991 - val_loss: 2.3027 - val_accuracy: 0.0952\n",
            "Epoch 20/20\n",
            "1250/1250 [==============================] - 73s 58ms/step - loss: 2.3028 - accuracy: 0.0988 - val_loss: 2.3027 - val_accuracy: 0.0952\n"
          ]
        },
        {
          "output_type": "execute_result",
          "data": {
            "text/plain": [
              "<keras.callbacks.History at 0x7fd620341bb0>"
            ]
          },
          "metadata": {},
          "execution_count": 16
        }
      ]
    }
  ],
  "metadata": {
    "colab": {
      "provenance": [],
      "authorship_tag": "ABX9TyOMnQJKKIGsJJ3yCzgq4fSs",
      "include_colab_link": true
    },
    "kernelspec": {
      "display_name": "Python 3",
      "name": "python3"
    },
    "language_info": {
      "name": "python"
    }
  },
  "nbformat": 4,
  "nbformat_minor": 0
}