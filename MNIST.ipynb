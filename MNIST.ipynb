{
  "nbformat": 4,
  "nbformat_minor": 0,
  "metadata": {
    "colab": {
      "provenance": []
    },
    "kernelspec": {
      "name": "python3",
      "display_name": "Python 3"
    },
    "language_info": {
      "name": "python"
    },
    "accelerator": "GPU",
    "gpuClass": "standard"
  },
  "cells": [
    {
      "cell_type": "code",
      "execution_count": 1,
      "metadata": {
        "id": "0wwTraFq0_E-"
      },
      "outputs": [],
      "source": [
        "import tensorflow\n",
        "import pandas as pd\n",
        "import numpy as np\n",
        "import matplotlib.pyplot as plt\n",
        "\n",
        "from tensorflow.keras.layers import Conv2D, MaxPool2D, Flatten, Dense, Dropout\n",
        "from tensorflow.keras.models import Sequential\n",
        "from tensorflow.keras.datasets import mnist"
      ]
    },
    {
      "cell_type": "code",
      "source": [
        "# loading the dataset\n",
        "(x_train, y_train), (x_test, y_test) = mnist.load_data()"
      ],
      "metadata": {
        "colab": {
          "base_uri": "https://localhost:8080/"
        },
        "id": "Sr39XY2S1Jbs",
        "outputId": "aca62327-dacf-4bde-802e-1d96e6ac4892"
      },
      "execution_count": 2,
      "outputs": [
        {
          "output_type": "stream",
          "name": "stdout",
          "text": [
            "Downloading data from https://storage.googleapis.com/tensorflow/tf-keras-datasets/mnist.npz\n",
            "11490434/11490434 [==============================] - 1s 0us/step\n"
          ]
        }
      ]
    },
    {
      "cell_type": "code",
      "source": [
        "x_train.shape"
      ],
      "metadata": {
        "colab": {
          "base_uri": "https://localhost:8080/"
        },
        "id": "dcC69oXO1U7p",
        "outputId": "0a27d61b-8b77-4ee9-b7c5-49df1fffea24"
      },
      "execution_count": 3,
      "outputs": [
        {
          "output_type": "execute_result",
          "data": {
            "text/plain": [
              "(60000, 28, 28)"
            ]
          },
          "metadata": {},
          "execution_count": 3
        }
      ]
    },
    {
      "cell_type": "code",
      "source": [
        "x_train = x_train.reshape(x_train.shape[0],x_train.shape[1],x_train.shape[2],1)\n",
        "y_train = y_train.reshape(y_train.shape[0],1)"
      ],
      "metadata": {
        "id": "HkTjKvTN2OrE"
      },
      "execution_count": 4,
      "outputs": []
    },
    {
      "cell_type": "code",
      "source": [
        "x_train.shape"
      ],
      "metadata": {
        "colab": {
          "base_uri": "https://localhost:8080/"
        },
        "id": "RpuTqL9wCIui",
        "outputId": "ecff6f65-aead-4347-9d78-d600ac590f2c"
      },
      "execution_count": 5,
      "outputs": [
        {
          "output_type": "execute_result",
          "data": {
            "text/plain": [
              "(60000, 28, 28, 1)"
            ]
          },
          "metadata": {},
          "execution_count": 5
        }
      ]
    },
    {
      "cell_type": "code",
      "source": [
        "y_train.shape"
      ],
      "metadata": {
        "id": "97No9Xg5DWBW",
        "colab": {
          "base_uri": "https://localhost:8080/"
        },
        "outputId": "c746696f-280d-4603-db3e-e116d8aceed5"
      },
      "execution_count": 6,
      "outputs": [
        {
          "output_type": "execute_result",
          "data": {
            "text/plain": [
              "(60000, 1)"
            ]
          },
          "metadata": {},
          "execution_count": 6
        }
      ]
    },
    {
      "cell_type": "code",
      "source": [
        "# name all the class\n",
        "classes = ['0','1','2','3','4','5','6','7','8','9']"
      ],
      "metadata": {
        "id": "sCIJBXZP3DKP"
      },
      "execution_count": 7,
      "outputs": []
    },
    {
      "cell_type": "code",
      "source": [
        "# visualize the data\n",
        "class_number = 7\n",
        "plt.imshow(x_train[class_number].reshape(28,28))\n",
        "classes[y_train[class_number][0]]"
      ],
      "metadata": {
        "colab": {
          "base_uri": "https://localhost:8080/",
          "height": 284
        },
        "id": "HOvMYVTwA7Sn",
        "outputId": "7f736e86-6801-4fa4-ae15-fd11f6f53e02"
      },
      "execution_count": 8,
      "outputs": [
        {
          "output_type": "execute_result",
          "data": {
            "text/plain": [
              "'3'"
            ],
            "application/vnd.google.colaboratory.intrinsic+json": {
              "type": "string"
            }
          },
          "metadata": {},
          "execution_count": 8
        },
        {
          "output_type": "display_data",
          "data": {
            "text/plain": [
              "<Figure size 432x288 with 1 Axes>"
            ],
            "image/png": "[encoded data removed]"
          },
          "metadata": {
            "needs_background": "light"
          }
        }
      ]
    },
    {
      "cell_type": "code",
      "source": [
        "y_train[class_number][0]"
      ],
      "metadata": {
        "colab": {
          "base_uri": "https://localhost:8080/"
        },
        "id": "5Ppi5OwID-Tn",
        "outputId": "21f399bd-2409-49fa-d290-7fae4a67eace"
      },
      "execution_count": 9,
      "outputs": [
        {
          "output_type": "execute_result",
          "data": {
            "text/plain": [
              "3"
            ]
          },
          "metadata": {},
          "execution_count": 9
        }
      ]
    },
    {
      "cell_type": "code",
      "source": [
        "# Normalise the data\n",
        "x_train, x_test = x_train/255.0, x_test/255.0"
      ],
      "metadata": {
        "id": "yGI78c23ECOO"
      },
      "execution_count": 10,
      "outputs": []
    },
    {
      "cell_type": "code",
      "source": [
        "# Constructing the network\n",
        "\n",
        "model = Sequential()\n",
        "\n",
        "# conv layer 1\n",
        "model.add(Conv2D(32, (3,3), activation='tanh'))\n",
        "model.add(MaxPool2D())\n",
        "\n",
        "# conv layer 2\n",
        "model.add(Conv2D(64, (3,3), activation='relu'))\n",
        "model.add(MaxPool2D())\n",
        "\n",
        "# conv layer 3\n",
        "model.add(Conv2D(128, (3,3), activation='relu'))\n",
        "model.add(MaxPool2D())\n",
        "\n",
        "model.add(Flatten())\n",
        "\n",
        "model.add(Dense(128, activation='relu'))\n",
        "\n",
        "model.add(Dense(64, activation='sigmoid'))\n",
        "\n",
        "model.add(Dense(32, activation='tanh'))\n",
        "\n",
        "model.add(Dense(10, activation='softmax'))"
      ],
      "metadata": {
        "id": "2uZj_6BEEG8R"
      },
      "execution_count": 11,
      "outputs": []
    },
    {
      "cell_type": "code",
      "source": [
        "# compile\n",
        "model.compile(optimizer='adam', loss='sparse_categorical_crossentropy', metrics=['accuracy'])"
      ],
      "metadata": {
        "id": "7_fPN-n7bEmz"
      },
      "execution_count": 12,
      "outputs": []
    },
    {
      "cell_type": "code",
      "source": [
        "# fit\n",
        "model.fit(x_train, y_train, epochs=20,  validation_split=0.2)"
      ],
      "metadata": {
        "colab": {
          "base_uri": "https://localhost:8080/"
        },
        "id": "vOb7AVx_bHsR",
        "outputId": "11161273-c81b-4fd7-ee55-7b480060eca5"
      },
      "execution_count": 13,
      "outputs": [
        {
          "output_type": "stream",
          "name": "stdout",
          "text": [
            "Epoch 1/20\n",
            "1500/1500 [==============================] - 15s 5ms/step - loss: 0.2880 - accuracy: 0.9184 - val_loss: 0.0983 - val_accuracy: 0.9708\n",
            "Epoch 2/20\n",
            "1500/1500 [==============================] - 6s 4ms/step - loss: 0.0884 - accuracy: 0.9737 - val_loss: 0.0789 - val_accuracy: 0.9775\n",
            "Epoch 3/20\n",
            "1500/1500 [==============================] - 8s 5ms/step - loss: 0.0630 - accuracy: 0.9815 - val_loss: 0.0822 - val_accuracy: 0.9744\n",
            "Epoch 4/20\n",
            "1500/1500 [==============================] - 8s 6ms/step - loss: 0.0519 - accuracy: 0.9840 - val_loss: 0.0648 - val_accuracy: 0.9808\n",
            "Epoch 5/20\n",
            "1500/1500 [==============================] - 8s 5ms/step - loss: 0.0397 - accuracy: 0.9883 - val_loss: 0.0537 - val_accuracy: 0.9849\n",
            "Epoch 6/20\n",
            "1500/1500 [==============================] - 7s 4ms/step - loss: 0.0339 - accuracy: 0.9893 - val_loss: 0.0634 - val_accuracy: 0.9826\n",
            "Epoch 7/20\n",
            "1500/1500 [==============================] - 6s 4ms/step - loss: 0.0294 - accuracy: 0.9907 - val_loss: 0.0607 - val_accuracy: 0.9835\n",
            "Epoch 8/20\n",
            "1500/1500 [==============================] - 7s 4ms/step - loss: 0.0243 - accuracy: 0.9929 - val_loss: 0.0666 - val_accuracy: 0.9817\n",
            "Epoch 9/20\n",
            "1500/1500 [==============================] - 6s 4ms/step - loss: 0.0237 - accuracy: 0.9928 - val_loss: 0.0506 - val_accuracy: 0.9862\n",
            "Epoch 10/20\n",
            "1500/1500 [==============================] - 6s 4ms/step - loss: 0.0214 - accuracy: 0.9933 - val_loss: 0.0587 - val_accuracy: 0.9843\n",
            "Epoch 11/20\n",
            "1500/1500 [==============================] - 6s 4ms/step - loss: 0.0162 - accuracy: 0.9947 - val_loss: 0.0577 - val_accuracy: 0.9857\n",
            "Epoch 12/20\n",
            "1500/1500 [==============================] - 6s 4ms/step - loss: 0.0174 - accuracy: 0.9949 - val_loss: 0.0486 - val_accuracy: 0.9875\n",
            "Epoch 13/20\n",
            "1500/1500 [==============================] - 6s 4ms/step - loss: 0.0155 - accuracy: 0.9952 - val_loss: 0.0692 - val_accuracy: 0.9852\n",
            "Epoch 14/20\n",
            "1500/1500 [==============================] - 6s 4ms/step - loss: 0.0146 - accuracy: 0.9954 - val_loss: 0.0633 - val_accuracy: 0.9837\n",
            "Epoch 15/20\n",
            "1500/1500 [==============================] - 6s 4ms/step - loss: 0.0150 - accuracy: 0.9952 - val_loss: 0.0570 - val_accuracy: 0.9861\n",
            "Epoch 16/20\n",
            "1500/1500 [==============================] - 7s 4ms/step - loss: 0.0120 - accuracy: 0.9963 - val_loss: 0.0616 - val_accuracy: 0.9862\n",
            "Epoch 17/20\n",
            "1500/1500 [==============================] - 7s 4ms/step - loss: 0.0126 - accuracy: 0.9963 - val_loss: 0.0521 - val_accuracy: 0.9880\n",
            "Epoch 18/20\n",
            "1500/1500 [==============================] - 6s 4ms/step - loss: 0.0095 - accuracy: 0.9971 - val_loss: 0.0871 - val_accuracy: 0.9822\n",
            "Epoch 19/20\n",
            "1500/1500 [==============================] - 6s 4ms/step - loss: 0.0121 - accuracy: 0.9964 - val_loss: 0.0566 - val_accuracy: 0.9874\n",
            "Epoch 20/20\n",
            "1500/1500 [==============================] - 6s 4ms/step - loss: 0.0114 - accuracy: 0.9965 - val_loss: 0.0554 - val_accuracy: 0.9870\n"
          ]
        },
        {
          "output_type": "execute_result",
          "data": {
            "text/plain": [
              "<keras.callbacks.History at 0x7f1bba0b4490>"
            ]
          },
          "metadata": {},
          "execution_count": 13
        }
      ]
    },
    {
      "cell_type": "code",
      "source": [
        "#Testing the pmodel\n",
        "x_test = x_test.reshape(x_test.shape[0],x_test.shape[1],x_test.shape[2],1)"
      ],
      "metadata": {
        "id": "5GpxA7shNT-0"
      },
      "execution_count": 14,
      "outputs": []
    },
    {
      "cell_type": "code",
      "source": [
        "\n",
        "def pred_out(x_test):\n",
        "  test_class = model.predict(x_test)\n",
        "  get_idx=np.zeros(10000).reshape(10000,1)\n",
        "  for j in range(test_class.shape[0]):\n",
        "    get_idx[j]=[i for i in range(10) if test_class[j][i]==max(test_class[j])]\n",
        "  print(\"The predicted out come by the model is:\",get_idx)\n",
        "  return get_idx"
      ],
      "metadata": {
        "id": "UPNXLNRzNyin"
      },
      "execution_count": 16,
      "outputs": []
    },
    {
      "cell_type": "code",
      "source": [
        "predictions_class=pred_out(x_test)"
      ],
      "metadata": {
        "colab": {
          "base_uri": "https://localhost:8080/"
        },
        "id": "jG_NqCUhNogM",
        "outputId": "82db1549-c637-4a27-a591-57f2a7050156"
      },
      "execution_count": 20,
      "outputs": [
        {
          "output_type": "stream",
          "name": "stdout",
          "text": [
            "313/313 [==============================] - 1s 2ms/step\n",
            "The predicted out come by the model is: [[7.]\n",
            " [2.]\n",
            " [1.]\n",
            " ...\n",
            " [4.]\n",
            " [5.]\n",
            " [6.]]\n"
          ]
        }
      ]
    },
    {
      "cell_type": "code",
      "source": [
        "plt.imshow(x_test[9].reshape(28,28))\n",
        "print(f\"The predicted value byt the model of the figure is: {predictions_class[9][0]}\")"
      ],
      "metadata": {
        "colab": {
          "base_uri": "https://localhost:8080/",
          "height": 282
        },
        "id": "X-0Axtcx37i5",
        "outputId": "353151dc-9881-46e0-90c8-649f493bef5b"
      },
      "execution_count": 25,
      "outputs": [
        {
          "output_type": "stream",
          "name": "stdout",
          "text": [
            "The predicted value byt the model of the figure is: 9.0\n"
          ]
        },
        {
          "output_type": "display_data",
          "data": {
            "text/plain": [
              "<Figure size 432x288 with 1 Axes>"
            ],
            "image/png": "[encoded data removed]"
          },
          "metadata": {
            "needs_background": "light"
          }
        }
      ]
    }
  ]
}